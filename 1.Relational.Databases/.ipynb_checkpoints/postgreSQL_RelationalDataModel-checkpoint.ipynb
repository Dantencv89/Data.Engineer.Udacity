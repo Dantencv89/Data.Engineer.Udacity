{
 "cells": [
  {
   "cell_type": "markdown",
   "metadata": {},
   "source": [
    "# POSTGRESQL - DATA MODEL \n",
    "### First Excercise of PostgreSQL Topic\n",
    "\n",
    "During this excercise we will create a data model using PostgreSQL database and create a normalized data model from Udacity - Data Engineer Course.\n",
    "\n",
    "Resources Used:\n",
    "- PostgreSQL Database:\n",
    "https://www.postgresql.org/\n",
    "- PG Admin . PostgreSQL GUI\n",
    "https://www.pgadmin.org/\n",
    "- Library of Python Psycopg2\n",
    "https://pypi.org/project/psycopg2/\n",
    "\n"
   ]
  },
  {
   "cell_type": "code",
   "execution_count": 1,
   "metadata": {},
   "outputs": [],
   "source": [
    "# Installing library in Python console --> pip install psycopg2 \n",
    "import psycopg2"
   ]
  },
  {
   "cell_type": "code",
   "execution_count": 3,
   "metadata": {},
   "outputs": [],
   "source": [
    "try:\n",
    "    conn = psycopg2.connect(\n",
    "        host=\"localhost\",\n",
    "        user=\"dantencv\",\n",
    "        database=\"postgres\",\n",
    "        password=\"20Masa20\"\n",
    "    )\n",
    "except psycopg2.Error as e:\n",
    "    print(\"Error could not make connection to postgres database\")\n",
    "    print(e)\n",
    "try:\n",
    "    cur= conn.cursor()\n",
    "except psycopg2.Error as e:\n",
    "    print(\"Error could not get curser to postgres database\")\n",
    "    print(e)\n"
   ]
  },
  {
   "cell_type": "code",
   "execution_count": 4,
   "metadata": {},
   "outputs": [],
   "source": [
    "conn.set_session(autocommit=True)"
   ]
  },
  {
   "cell_type": "markdown",
   "metadata": {},
   "source": [
    "Following code will create a new table in database/schema --> postgres.public:"
   ]
  },
  {
   "cell_type": "code",
   "execution_count": 6,
   "metadata": {},
   "outputs": [],
   "source": [
    "try:\n",
    "    cur.execute(\"CREATE TABLE IF NOT EXISTS music_library (album_id int, \\\n",
    "                        albun_name varchar, artist_name varchar,\\\n",
    "                        year int, songs text[]);\")\n",
    "except psycopg2.Error as e:\n",
    "    print(\"Error Issue creating a table\")\n",
    "    print(e)"
   ]
  },
  {
   "cell_type": "code",
   "execution_count": 9,
   "metadata": {},
   "outputs": [],
   "source": [
    "try:\n",
    "    cur.execute(\"INSERT INTO music_library (album_id , \\\n",
    "                        albun_name , artist_name ,\\\n",
    "                        year , songs) VALUES (%s,%s,%s,%s,%s)\",\n",
    "                       (1, \"Rubber Soul\", \"The Beatles\", 1965, [\"Michelle\", \"Think Yourself\", \"In my life\"]))\n",
    "except psycopg2.Error as e:\n",
    "    print(\"Error Inserting rows\")\n",
    "    print(e)"
   ]
  },
  {
   "cell_type": "code",
   "execution_count": 10,
   "metadata": {},
   "outputs": [],
   "source": [
    "try:\n",
    "    cur.execute(\"INSERT INTO music_library (album_id , \\\n",
    "                        albun_name , artist_name ,\\\n",
    "                        year , songs) VALUES (%s,%s,%s,%s,%s)\",\n",
    "                       (2, \"Let it be\", \"The Beatles\", 1970, [\"Let it be\", \"Across the universe\"]))\n",
    "except psycopg2.Error as e:\n",
    "    print(\"Error Inserting rows\")\n",
    "    print(e)"
   ]
  },
  {
   "cell_type": "code",
   "execution_count": 11,
   "metadata": {},
   "outputs": [
    {
     "name": "stdout",
     "output_type": "stream",
     "text": [
      "(1, 'Rubber Soul', 'The Beatles', 1965, ['Michelle', 'Think Yourself', 'In my life'])\n",
      "(2, 'Let it be', 'The Beatles', 1970, ['Let it be', 'Across the universe'])\n"
     ]
    }
   ],
   "source": [
    "try:\n",
    "    cur.execute(\"SELECT * FROM music_library;\")\n",
    "except psycopg2.Error as e:\n",
    "    print(\"Error reading rows\")\n",
    "    print(e)   \n",
    "    \n",
    "row = cur. fetchone()\n",
    "while row:\n",
    "    print(row)\n",
    "    row=cur.fetchone()"
   ]
  },
  {
   "cell_type": "markdown",
   "metadata": {},
   "source": [
    "### Moving to 1st Normal Form\n",
    "Data is not normalized, first we need to remove any collecitons or list of data (songs column), we need to break up the list of songs into individual rows"
   ]
  },
  {
   "cell_type": "code",
   "execution_count": 12,
   "metadata": {},
   "outputs": [],
   "source": [
    "try:\n",
    "    cur.execute(\"CREATE TABLE IF NOT EXISTS music_library2 (album_id int, \\\n",
    "                        albun_name varchar, artist_name varchar,\\\n",
    "                        year int, songs varchar);\")\n",
    "except psycopg2.Error as e:\n",
    "    print(\"Error Issue creating a table\")\n",
    "    print(e)\n",
    "# 1st Album\n",
    "try:\n",
    "    cur.execute(\"INSERT INTO music_library2 (album_id , \\\n",
    "                        albun_name , artist_name ,\\\n",
    "                        year , songs) VALUES (%s,%s,%s,%s,%s)\",\n",
    "                       (1, \"Rubber Soul\", \"The Beatles\", 1965, \"Michelle\"))\n",
    "    cur.execute(\"INSERT INTO music_library2 (album_id , \\\n",
    "                        albun_name , artist_name ,\\\n",
    "                        year , songs) VALUES (%s,%s,%s,%s,%s)\",\n",
    "                       (1, \"Rubber Soul\", \"The Beatles\", 1965, \"Think Yourself\"))\n",
    "    cur.execute(\"INSERT INTO music_library2 (album_id , \\\n",
    "                        albun_name , artist_name ,\\\n",
    "                        year , songs) VALUES (%s,%s,%s,%s,%s)\",\n",
    "                       (1, \"Rubber Soul\", \"The Beatles\", 1965, \"In my life\"))\n",
    "except psycopg2.Error as e:\n",
    "    print(\"Error Inserting rows\")\n",
    "    print(e)\n",
    "\n",
    "# 2nd Album\n",
    "try:\n",
    "    cur.execute(\"INSERT INTO music_library2 (album_id , \\\n",
    "                        albun_name , artist_name ,\\\n",
    "                        year , songs) VALUES (%s,%s,%s,%s,%s)\",\n",
    "                       (2, \"Let it be\", \"The Beatles\", 1970, \"Let it be\"))\n",
    "    cur.execute(\"INSERT INTO music_library2 (album_id , \\\n",
    "                        albun_name , artist_name ,\\\n",
    "                        year , songs) VALUES (%s,%s,%s,%s,%s)\",\n",
    "                       (2, \"Let it be\", \"The Beatles\", 1970,  \"Across the universe\"))\n",
    "except psycopg2.Error as e:\n",
    "    print(\"Error Inserting rows\")\n",
    "    print(e)"
   ]
  },
  {
   "cell_type": "code",
   "execution_count": 13,
   "metadata": {},
   "outputs": [
    {
     "name": "stdout",
     "output_type": "stream",
     "text": [
      "(1, 'Rubber Soul', 'The Beatles', 1965, 'Michelle')\n",
      "(1, 'Rubber Soul', 'The Beatles', 1965, 'Think Yourself')\n",
      "(1, 'Rubber Soul', 'The Beatles', 1965, 'In my life')\n",
      "(2, 'Let it be', 'The Beatles', 1970, 'Let it be')\n",
      "(2, 'Let it be', 'The Beatles', 1970, 'Across the universe')\n"
     ]
    }
   ],
   "source": [
    "try:\n",
    "    cur.execute(\"SELECT * FROM music_library2;\")\n",
    "except psycopg2.Error as e:\n",
    "    print(\"Error reading rows\")\n",
    "    print(e)   \n",
    "    \n",
    "row = cur. fetchone()\n",
    "while row:\n",
    "    print(row)\n",
    "    row=cur.fetchone()"
   ]
  },
  {
   "cell_type": "markdown",
   "metadata": {},
   "source": [
    "### Moving to 2nd Normal Form\n",
    "We haved moved our data to 1NF, while records are unique in 1NF,, our primary key (album id) is not unique. We need to break up into two tables, album library and song library\n"
   ]
  },
  {
   "cell_type": "code",
   "execution_count": 21,
   "metadata": {},
   "outputs": [],
   "source": [
    "try:\n",
    "    cur.execute(\"CREATE TABLE IF NOT EXISTS album_library (album_id int, \\\n",
    "                        albun_name varchar, artist_name varchar,\\\n",
    "                        year int);\")\n",
    "except psycopg2.Error as e:\n",
    "    print(\"Error Issue creating a table\")\n",
    "    print(e)\n",
    "# 1st Album\n",
    "try:\n",
    "    cur.execute(\"INSERT INTO album_library (album_id , \\\n",
    "                        albun_name , artist_name ,\\\n",
    "                        year ) VALUES (%s,%s,%s,%s)\",\n",
    "                       (1, \"Rubber Soul\", \"The Beatles\", 1965))\n",
    "except psycopg2.Error as e:\n",
    "    print(\"Error Inserting rows\")\n",
    "    print(e)\n",
    "\n",
    "# 2nd Album\n",
    "try:\n",
    "    cur.execute(\"INSERT INTO album_library (album_id , \\\n",
    "                        albun_name , artist_name ,\\\n",
    "                        year ) VALUES (%s,%s,%s,%s)\",\n",
    "                       (2, \"Let it be\", \"The Beatles\", 1970))\n",
    "except psycopg2.Error as e:\n",
    "    print(\"Error Inserting rows\")\n",
    "    print(e)\n",
    "    \n",
    "    \n",
    "try:\n",
    "    cur.execute(\"CREATE TABLE IF NOT EXISTS song_library (album_id int, \\\n",
    "                        song varchar);\")\n",
    "except psycopg2.Error as e:\n",
    "    print(\"Error Issue creating a table\")\n",
    "    print(e)\n",
    "    \n",
    "try:\n",
    "    cur.execute(\"INSERT INTO song_library (album_id , \\\n",
    "                        song) VALUES (%s,%s)\",\n",
    "                       (1, \"Michelle\"))\n",
    "    cur.execute(\"INSERT INTO song_library (album_id , \\\n",
    "                        song) VALUES (%s,%s)\",\n",
    "                       (1,\"Think Yourself\"))\n",
    "    cur.execute(\"INSERT INTO song_library (album_id , \\\n",
    "                        song) VALUES (%s,%s)\",\n",
    "                       (1,\"In my life\"))\n",
    "except psycopg2.Error as e:\n",
    "    print(\"Error Inserting rows\")\n",
    "    print(e)\n",
    "\n",
    "# 2nd Album\n",
    "try:\n",
    "    cur.execute(\"INSERT INTO song_library (album_id , \\\n",
    "                        song) VALUES (%s,%s)\",\n",
    "                       (2,\"Let it be\"))\n",
    "    cur.execute(\"INSERT INTO song_library (album_id , \\\n",
    "                        song) VALUES (%s,%s)\",\n",
    "                       (2,\"Across the universe\"))\n",
    "except psycopg2.Error as e:\n",
    "    print(\"Error Inserting rows\")\n",
    "    print(e)"
   ]
  },
  {
   "cell_type": "code",
   "execution_count": 28,
   "metadata": {},
   "outputs": [
    {
     "name": "stdout",
     "output_type": "stream",
     "text": [
      "(1, 'Rubber Soul', 'The Beatles', 1965, 1, 'Michelle')\n",
      "(1, 'Rubber Soul', 'The Beatles', 1965, 1, 'Think Yourself')\n",
      "(1, 'Rubber Soul', 'The Beatles', 1965, 1, 'In my life')\n",
      "(2, 'Let it be', 'The Beatles', 1970, 2, 'Let it be')\n",
      "(2, 'Let it be', 'The Beatles', 1970, 2, 'Across the universe')\n"
     ]
    }
   ],
   "source": [
    "try:\n",
    "    cur.execute(\"SELECT * FROM album_library as a join song_library as s on s.album_id=a.album_id;\")\n",
    "except psycopg2.Error as e:\n",
    "    print(\"Error reading rows\")\n",
    "    print(e)   \n",
    "    \n",
    "row = cur. fetchone()\n",
    "while row:\n",
    "    print(row)\n",
    "    row=cur.fetchone()"
   ]
  },
  {
   "cell_type": "markdown",
   "metadata": {},
   "source": [
    "### Moving to 3rd Normal Form (NF)\n",
    "Check our transitive dependencies between fields. Album library can move artist name to its own table, called artist will leave us with 3 tables"
   ]
  },
  {
   "cell_type": "code",
   "execution_count": 29,
   "metadata": {},
   "outputs": [],
   "source": [
    "##TBD"
   ]
  },
  {
   "cell_type": "markdown",
   "metadata": {},
   "source": [
    "### Dropping all tables"
   ]
  },
  {
   "cell_type": "code",
   "execution_count": 30,
   "metadata": {},
   "outputs": [],
   "source": [
    "cur.execute(\"DROP table music_library\")\n",
    "cur.execute(\"DROP table music_library2\")\n",
    "cur.execute(\"DROP table song_library\")\n",
    "cur.execute(\"DROP table album_library\")"
   ]
  },
  {
   "cell_type": "code",
   "execution_count": 31,
   "metadata": {},
   "outputs": [],
   "source": [
    "cur.close()\n",
    "conn.close()"
   ]
  },
  {
   "cell_type": "code",
   "execution_count": null,
   "metadata": {},
   "outputs": [],
   "source": []
  }
 ],
 "metadata": {
  "kernelspec": {
   "display_name": "Python 3",
   "language": "python",
   "name": "python3"
  },
  "language_info": {
   "codemirror_mode": {
    "name": "ipython",
    "version": 3
   },
   "file_extension": ".py",
   "mimetype": "text/x-python",
   "name": "python",
   "nbconvert_exporter": "python",
   "pygments_lexer": "ipython3",
   "version": "3.7.4"
  }
 },
 "nbformat": 4,
 "nbformat_minor": 2
}
